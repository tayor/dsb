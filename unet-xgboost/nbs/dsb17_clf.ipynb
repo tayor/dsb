{
 "cells": [
  {
   "cell_type": "code",
   "execution_count": 1,
   "metadata": {
    "collapsed": false
   },
   "outputs": [
    {
     "name": "stderr",
     "output_type": "stream",
     "text": [
      "/home/ubuntu/anaconda2/lib/python2.7/site-packages/sklearn/cross_validation.py:44: DeprecationWarning: This module was deprecated in version 0.18 in favor of the model_selection module into which all the refactored classes and functions are moved. Also note that the interface of the new CV iterators are different from that of this module. This module will be removed in 0.20.\n",
      "  \"This module will be removed in 0.20.\", DeprecationWarning)\n"
     ]
    }
   ],
   "source": [
    "import numpy as np\n",
    "import scipy as sp\n",
    "\n",
    "from sklearn import cross_validation\n",
    "from sklearn.cross_validation import StratifiedKFold as KFold\n",
    "from sklearn.metrics import classification_report\n",
    "from sklearn.ensemble import RandomForestClassifier as RF\n",
    "import xgboost as xgb\n",
    "\n",
    "data_path = '/home/ubuntu/fs/data/dsb17/'\n",
    "results_path = data_path+'results/'"
   ]
  },
  {
   "cell_type": "markdown",
   "metadata": {},
   "source": [
    "## XGBoost"
   ]
  },
  {
   "cell_type": "code",
   "execution_count": 2,
   "metadata": {
    "collapsed": false
   },
   "outputs": [
    {
     "name": "stdout",
     "output_type": "stream",
     "text": [
      "[0]\tvalidation_0-logloss:0.69007\n",
      "Will train until validation_0-logloss hasn't improved in 50 rounds.\n",
      "[1]\tvalidation_0-logloss:0.686939\n",
      "[2]\tvalidation_0-logloss:0.684088\n",
      "[3]\tvalidation_0-logloss:0.681628\n",
      "[4]\tvalidation_0-logloss:0.678959\n",
      "[5]\tvalidation_0-logloss:0.676043\n",
      "[6]\tvalidation_0-logloss:0.673593\n",
      "[7]\tvalidation_0-logloss:0.670722\n",
      "[8]\tvalidation_0-logloss:0.668342\n",
      "[9]\tvalidation_0-logloss:0.665847\n",
      "[10]\tvalidation_0-logloss:0.663576\n",
      "[11]\tvalidation_0-logloss:0.660939\n",
      "[12]\tvalidation_0-logloss:0.658739\n",
      "[13]\tvalidation_0-logloss:0.656201\n",
      "[14]\tvalidation_0-logloss:0.654033\n",
      "[15]\tvalidation_0-logloss:0.652053\n",
      "[16]\tvalidation_0-logloss:0.649601\n",
      "[17]\tvalidation_0-logloss:0.647549\n",
      "[18]\tvalidation_0-logloss:0.645191\n",
      "[19]\tvalidation_0-logloss:0.643257\n",
      "[20]\tvalidation_0-logloss:0.640814\n",
      "[21]\tvalidation_0-logloss:0.638899\n",
      "[22]\tvalidation_0-logloss:0.637047\n",
      "[23]\tvalidation_0-logloss:0.635504\n",
      "[24]\tvalidation_0-logloss:0.633773\n",
      "[25]\tvalidation_0-logloss:0.631683\n",
      "[26]\tvalidation_0-logloss:0.629857\n",
      "[27]\tvalidation_0-logloss:0.628418\n",
      "[28]\tvalidation_0-logloss:0.627142\n",
      "[29]\tvalidation_0-logloss:0.625293\n",
      "[30]\tvalidation_0-logloss:0.623728\n",
      "[31]\tvalidation_0-logloss:0.621932\n",
      "[32]\tvalidation_0-logloss:0.620316\n",
      "[33]\tvalidation_0-logloss:0.618945\n",
      "[34]\tvalidation_0-logloss:0.616889\n",
      "[35]\tvalidation_0-logloss:0.615277\n",
      "[36]\tvalidation_0-logloss:0.613411\n",
      "[37]\tvalidation_0-logloss:0.611473\n",
      "[38]\tvalidation_0-logloss:0.610056\n",
      "[39]\tvalidation_0-logloss:0.60799\n",
      "[40]\tvalidation_0-logloss:0.606272\n",
      "[41]\tvalidation_0-logloss:0.604823\n",
      "[42]\tvalidation_0-logloss:0.6037\n",
      "[43]\tvalidation_0-logloss:0.602378\n",
      "[44]\tvalidation_0-logloss:0.600747\n",
      "[45]\tvalidation_0-logloss:0.59958\n",
      "[46]\tvalidation_0-logloss:0.598273\n",
      "[47]\tvalidation_0-logloss:0.597233\n",
      "[48]\tvalidation_0-logloss:0.595789\n",
      "[49]\tvalidation_0-logloss:0.594755\n",
      "[50]\tvalidation_0-logloss:0.593519\n",
      "[51]\tvalidation_0-logloss:0.592419\n",
      "[52]\tvalidation_0-logloss:0.591033\n",
      "[53]\tvalidation_0-logloss:0.590283\n",
      "[54]\tvalidation_0-logloss:0.589137\n",
      "[55]\tvalidation_0-logloss:0.588051\n",
      "[56]\tvalidation_0-logloss:0.587036\n",
      "[57]\tvalidation_0-logloss:0.585824\n",
      "[58]\tvalidation_0-logloss:0.584567\n",
      "[59]\tvalidation_0-logloss:0.583983\n",
      "[60]\tvalidation_0-logloss:0.583093\n",
      "[61]\tvalidation_0-logloss:0.582147\n",
      "[62]\tvalidation_0-logloss:0.58159\n",
      "[63]\tvalidation_0-logloss:0.580399\n",
      "[64]\tvalidation_0-logloss:0.579485\n",
      "[65]\tvalidation_0-logloss:0.578243\n",
      "[66]\tvalidation_0-logloss:0.577215\n",
      "[67]\tvalidation_0-logloss:0.576216\n",
      "[68]\tvalidation_0-logloss:0.575615\n",
      "[69]\tvalidation_0-logloss:0.574609\n",
      "[70]\tvalidation_0-logloss:0.57384\n",
      "[71]\tvalidation_0-logloss:0.573205\n",
      "[72]\tvalidation_0-logloss:0.57216\n",
      "[73]\tvalidation_0-logloss:0.571443\n",
      "[74]\tvalidation_0-logloss:0.570592\n",
      "[75]\tvalidation_0-logloss:0.569624\n",
      "[76]\tvalidation_0-logloss:0.568845\n",
      "[77]\tvalidation_0-logloss:0.568227\n",
      "[78]\tvalidation_0-logloss:0.567302\n",
      "[79]\tvalidation_0-logloss:0.56648\n",
      "[80]\tvalidation_0-logloss:0.565905\n",
      "[81]\tvalidation_0-logloss:0.565194\n",
      "[82]\tvalidation_0-logloss:0.564544\n",
      "[83]\tvalidation_0-logloss:0.564039\n",
      "[84]\tvalidation_0-logloss:0.563543\n",
      "[85]\tvalidation_0-logloss:0.563085\n",
      "[86]\tvalidation_0-logloss:0.562266\n",
      "[87]\tvalidation_0-logloss:0.561521\n",
      "[88]\tvalidation_0-logloss:0.561276\n",
      "[89]\tvalidation_0-logloss:0.560589\n",
      "[90]\tvalidation_0-logloss:0.560132\n",
      "[91]\tvalidation_0-logloss:0.559396\n",
      "[92]\tvalidation_0-logloss:0.558758\n",
      "[93]\tvalidation_0-logloss:0.558139\n",
      "[94]\tvalidation_0-logloss:0.557558\n",
      "[95]\tvalidation_0-logloss:0.557139\n",
      "[96]\tvalidation_0-logloss:0.556596\n",
      "[97]\tvalidation_0-logloss:0.556231\n",
      "[98]\tvalidation_0-logloss:0.555139\n",
      "[99]\tvalidation_0-logloss:0.554828\n",
      "[100]\tvalidation_0-logloss:0.554142\n",
      "[101]\tvalidation_0-logloss:0.553599\n",
      "[102]\tvalidation_0-logloss:0.553408\n",
      "[103]\tvalidation_0-logloss:0.552643\n",
      "[104]\tvalidation_0-logloss:0.551875\n",
      "[105]\tvalidation_0-logloss:0.551627\n",
      "[106]\tvalidation_0-logloss:0.551504\n",
      "[107]\tvalidation_0-logloss:0.551084\n",
      "[108]\tvalidation_0-logloss:0.550703\n",
      "[109]\tvalidation_0-logloss:0.550139\n",
      "[110]\tvalidation_0-logloss:0.54952\n",
      "[111]\tvalidation_0-logloss:0.54916\n",
      "[112]\tvalidation_0-logloss:0.54856\n",
      "[113]\tvalidation_0-logloss:0.548114\n",
      "[114]\tvalidation_0-logloss:0.548039\n",
      "[115]\tvalidation_0-logloss:0.547898\n",
      "[116]\tvalidation_0-logloss:0.547641\n",
      "[117]\tvalidation_0-logloss:0.547714\n",
      "[118]\tvalidation_0-logloss:0.547255\n",
      "[119]\tvalidation_0-logloss:0.546842\n",
      "[120]\tvalidation_0-logloss:0.546173\n",
      "[121]\tvalidation_0-logloss:0.545862\n",
      "[122]\tvalidation_0-logloss:0.545365\n",
      "[123]\tvalidation_0-logloss:0.545036\n",
      "[124]\tvalidation_0-logloss:0.544929\n",
      "[125]\tvalidation_0-logloss:0.545058\n",
      "[126]\tvalidation_0-logloss:0.544765\n",
      "[127]\tvalidation_0-logloss:0.544156\n",
      "[128]\tvalidation_0-logloss:0.54388\n",
      "[129]\tvalidation_0-logloss:0.543666\n",
      "[130]\tvalidation_0-logloss:0.543444\n",
      "[131]\tvalidation_0-logloss:0.543024\n",
      "[132]\tvalidation_0-logloss:0.542557\n",
      "[133]\tvalidation_0-logloss:0.542561\n",
      "[134]\tvalidation_0-logloss:0.542458\n",
      "[135]\tvalidation_0-logloss:0.542302\n",
      "[136]\tvalidation_0-logloss:0.542029\n",
      "[137]\tvalidation_0-logloss:0.541839\n",
      "[138]\tvalidation_0-logloss:0.541763\n",
      "[139]\tvalidation_0-logloss:0.541547\n",
      "[140]\tvalidation_0-logloss:0.541153\n",
      "[141]\tvalidation_0-logloss:0.540773\n",
      "[142]\tvalidation_0-logloss:0.540458\n",
      "[143]\tvalidation_0-logloss:0.540082\n",
      "[144]\tvalidation_0-logloss:0.539516\n",
      "[145]\tvalidation_0-logloss:0.539295\n",
      "[146]\tvalidation_0-logloss:0.539166\n",
      "[147]\tvalidation_0-logloss:0.539047\n",
      "[148]\tvalidation_0-logloss:0.538821\n",
      "[149]\tvalidation_0-logloss:0.538281\n",
      "[150]\tvalidation_0-logloss:0.538126\n",
      "[151]\tvalidation_0-logloss:0.537857\n",
      "[152]\tvalidation_0-logloss:0.53772\n",
      "[153]\tvalidation_0-logloss:0.537793\n",
      "[154]\tvalidation_0-logloss:0.537692\n",
      "[155]\tvalidation_0-logloss:0.537492\n",
      "[156]\tvalidation_0-logloss:0.537395\n",
      "[157]\tvalidation_0-logloss:0.537033\n",
      "[158]\tvalidation_0-logloss:0.536571\n",
      "[159]\tvalidation_0-logloss:0.536291\n",
      "[160]\tvalidation_0-logloss:0.536061\n",
      "[161]\tvalidation_0-logloss:0.536217\n",
      "[162]\tvalidation_0-logloss:0.535921\n",
      "[163]\tvalidation_0-logloss:0.535716\n",
      "[164]\tvalidation_0-logloss:0.535718\n",
      "[165]\tvalidation_0-logloss:0.535605\n",
      "[166]\tvalidation_0-logloss:0.535341\n",
      "[167]\tvalidation_0-logloss:0.535225\n",
      "[168]\tvalidation_0-logloss:0.534873\n",
      "[169]\tvalidation_0-logloss:0.534886\n",
      "[170]\tvalidation_0-logloss:0.534981\n",
      "[171]\tvalidation_0-logloss:0.534712\n",
      "[172]\tvalidation_0-logloss:0.534957\n",
      "[173]\tvalidation_0-logloss:0.534749\n",
      "[174]\tvalidation_0-logloss:0.534439\n",
      "[175]\tvalidation_0-logloss:0.534265\n",
      "[176]\tvalidation_0-logloss:0.534449\n",
      "[177]\tvalidation_0-logloss:0.534253\n",
      "[178]\tvalidation_0-logloss:0.534322\n",
      "[179]\tvalidation_0-logloss:0.534184\n",
      "[180]\tvalidation_0-logloss:0.534342\n",
      "[181]\tvalidation_0-logloss:0.534324\n",
      "[182]\tvalidation_0-logloss:0.534099\n",
      "[183]\tvalidation_0-logloss:0.533778\n",
      "[184]\tvalidation_0-logloss:0.533639\n",
      "[185]\tvalidation_0-logloss:0.533867\n",
      "[186]\tvalidation_0-logloss:0.533719\n",
      "[187]\tvalidation_0-logloss:0.533626\n",
      "[188]\tvalidation_0-logloss:0.533511\n",
      "[189]\tvalidation_0-logloss:0.533247\n",
      "[190]\tvalidation_0-logloss:0.53311\n",
      "[191]\tvalidation_0-logloss:0.533186\n",
      "[192]\tvalidation_0-logloss:0.533114\n",
      "[193]\tvalidation_0-logloss:0.532842\n",
      "[194]\tvalidation_0-logloss:0.532882\n",
      "[195]\tvalidation_0-logloss:0.532763\n",
      "[196]\tvalidation_0-logloss:0.533005\n",
      "[197]\tvalidation_0-logloss:0.5332\n",
      "[198]\tvalidation_0-logloss:0.532972\n",
      "[199]\tvalidation_0-logloss:0.532812\n",
      "[200]\tvalidation_0-logloss:0.532933\n",
      "[201]\tvalidation_0-logloss:0.532865\n",
      "[202]\tvalidation_0-logloss:0.53258\n",
      "[203]\tvalidation_0-logloss:0.532519\n",
      "[204]\tvalidation_0-logloss:0.532824\n",
      "[205]\tvalidation_0-logloss:0.532889\n",
      "[206]\tvalidation_0-logloss:0.532759\n",
      "[207]\tvalidation_0-logloss:0.532425\n",
      "[208]\tvalidation_0-logloss:0.532581\n",
      "[209]\tvalidation_0-logloss:0.532786\n",
      "[210]\tvalidation_0-logloss:0.532819\n",
      "[211]\tvalidation_0-logloss:0.532619\n",
      "[212]\tvalidation_0-logloss:0.532478\n",
      "[213]\tvalidation_0-logloss:0.53258\n",
      "[214]\tvalidation_0-logloss:0.532604\n",
      "[215]\tvalidation_0-logloss:0.532592\n",
      "[216]\tvalidation_0-logloss:0.532704\n",
      "[217]\tvalidation_0-logloss:0.533099\n",
      "[218]\tvalidation_0-logloss:0.53335\n",
      "[219]\tvalidation_0-logloss:0.533427\n",
      "[220]\tvalidation_0-logloss:0.533256\n",
      "[221]\tvalidation_0-logloss:0.53327\n",
      "[222]\tvalidation_0-logloss:0.533472\n",
      "[223]\tvalidation_0-logloss:0.533068\n",
      "[224]\tvalidation_0-logloss:0.533248\n",
      "[225]\tvalidation_0-logloss:0.533304\n",
      "[226]\tvalidation_0-logloss:0.533387\n",
      "[227]\tvalidation_0-logloss:0.533581\n",
      "[228]\tvalidation_0-logloss:0.533586\n",
      "[229]\tvalidation_0-logloss:0.533692\n",
      "[230]\tvalidation_0-logloss:0.533735\n",
      "[231]\tvalidation_0-logloss:0.5336\n",
      "[232]\tvalidation_0-logloss:0.533595\n",
      "[233]\tvalidation_0-logloss:0.533735\n",
      "[234]\tvalidation_0-logloss:0.533717\n",
      "[235]\tvalidation_0-logloss:0.533348\n",
      "[236]\tvalidation_0-logloss:0.533346\n",
      "[237]\tvalidation_0-logloss:0.533518\n",
      "[238]\tvalidation_0-logloss:0.5334\n",
      "[239]\tvalidation_0-logloss:0.533687\n",
      "[240]\tvalidation_0-logloss:0.534015\n",
      "[241]\tvalidation_0-logloss:0.533916\n",
      "[242]\tvalidation_0-logloss:0.533693\n",
      "[243]\tvalidation_0-logloss:0.533972\n",
      "[244]\tvalidation_0-logloss:0.533789\n",
      "[245]\tvalidation_0-logloss:0.533673\n",
      "[246]\tvalidation_0-logloss:0.533843\n",
      "[247]\tvalidation_0-logloss:0.533805\n",
      "[248]\tvalidation_0-logloss:0.533752\n",
      "[249]\tvalidation_0-logloss:0.533888\n",
      "[250]\tvalidation_0-logloss:0.533982\n",
      "[251]\tvalidation_0-logloss:0.534213\n",
      "[252]\tvalidation_0-logloss:0.534265\n",
      "[253]\tvalidation_0-logloss:0.534354\n",
      "[254]\tvalidation_0-logloss:0.534288\n",
      "[255]\tvalidation_0-logloss:0.533863\n",
      "[256]\tvalidation_0-logloss:0.533873\n",
      "[257]\tvalidation_0-logloss:0.533909\n",
      "Stopping. Best iteration:\n",
      "[207]\tvalidation_0-logloss:0.532425\n",
      "\n"
     ]
    },
    {
     "data": {
      "text/plain": [
       "XGBRegressor(base_score=0.5, colsample_bylevel=1, colsample_bytree=0.8,\n",
       "       gamma=0, learning_rate=0.01, max_delta_step=0, max_depth=10,\n",
       "       min_child_weight=9, missing=None, n_estimators=5000, nthread=8,\n",
       "       objective='reg:linear', reg_alpha=0, reg_lambda=1,\n",
       "       scale_pos_weight=1, seed=4242, silent=True, subsample=0.8)"
      ]
     },
     "execution_count": 2,
     "metadata": {},
     "output_type": "execute_result"
    }
   ],
   "source": [
    "x = np.load(results_path+'dataX.npy')\n",
    "y = np.load(results_path+'dataY.npy')\n",
    "\n",
    "trn_x, val_x, trn_y, val_y = cross_validation.train_test_split(x, y, random_state=42, stratify=y,\n",
    "                                                               test_size=0.20)\n",
    "\n",
    "clf = xgb.XGBRegressor(max_depth=10,\n",
    "                           n_estimators=5000,\n",
    "                           min_child_weight=9,\n",
    "                           learning_rate=0.01,\n",
    "                           nthread=8,\n",
    "                           subsample=0.80,\n",
    "                           colsample_bytree=0.80,\n",
    "                           seed=4242)\n",
    "\n",
    "clf.fit(trn_x, trn_y, eval_set=[(val_x, val_y)], eval_metric='logloss', early_stopping_rounds=50)"
   ]
  },
  {
   "cell_type": "code",
   "execution_count": 3,
   "metadata": {
    "collapsed": false
   },
   "outputs": [
    {
     "name": "stdout",
     "output_type": "stream",
     "text": [
      "('logloss', 0.53055496434015892)\n"
     ]
    }
   ],
   "source": [
    "from sklearn.metrics import log_loss\n",
    "val_y_pred = clf.predict(val_x)\n",
    "\n",
    "val_y_pred[val_y_pred > 0.85] = 0.85\n",
    "val_y_pred[val_y_pred < 0.15] = 0.15\n",
    "\n",
    "print(\"logloss\", log_loss(val_y, val_y_pred))"
   ]
  },
  {
   "cell_type": "markdown",
   "metadata": {},
   "source": [
    "## Create Submission"
   ]
  },
  {
   "cell_type": "code",
   "execution_count": 4,
   "metadata": {
    "collapsed": true
   },
   "outputs": [],
   "source": [
    "X_test = np.load(results_path+'testX.npy')\n",
    "X_ids = np.load(results_path+'testId.npy')\n",
    "\n",
    "y_pred = clf.predict(X_test)"
   ]
  },
  {
   "cell_type": "code",
   "execution_count": 5,
   "metadata": {
    "collapsed": false
   },
   "outputs": [
    {
     "name": "stdout",
     "output_type": "stream",
     "text": [
      "Saved predictions in /home/ubuntu/fs/data/dsb17/results/subm4.csv\n"
     ]
    }
   ],
   "source": [
    "subm = np.stack([X_ids, y_pred], axis=1)\n",
    "subm_file_name = results_path+'subm5.csv'\n",
    "np.savetxt(subm_file_name, subm, fmt='%s,%.5f', header='id,cancer', comments='')\n",
    "print('Saved predictions in {}'.format(subm_file_name))"
   ]
  },
  {
   "cell_type": "code",
   "execution_count": 6,
   "metadata": {
    "collapsed": false
   },
   "outputs": [
    {
     "data": {
      "text/html": [
       "<a href='../../data/dsb17/results/subm4.csv' target='_blank'>../../data/dsb17/results/subm4.csv</a><br>"
      ],
      "text/plain": [
       "/home/ubuntu/fs/data/dsb17/results/subm4.csv"
      ]
     },
     "execution_count": 6,
     "metadata": {},
     "output_type": "execute_result"
    }
   ],
   "source": [
    "from IPython.display import FileLink\n",
    "FileLink('../../data/dsb17/results/subm4.csv')"
   ]
  }
 ],
 "metadata": {
  "anaconda-cloud": {},
  "kernelspec": {
   "display_name": "Python 3",
   "language": "python",
   "name": "python3"
  },
  "language_info": {
   "codemirror_mode": {
    "name": "ipython",
    "version": 3
   },
   "file_extension": ".py",
   "mimetype": "text/x-python",
   "name": "python",
   "nbconvert_exporter": "python",
   "pygments_lexer": "ipython3",
   "version": "3.4.3"
  }
 },
 "nbformat": 4,
 "nbformat_minor": 1
}
