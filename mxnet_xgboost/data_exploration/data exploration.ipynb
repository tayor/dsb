{
 "cells": [
  {
   "cell_type": "markdown",
   "metadata": {},
   "source": [
    "# Data Exploration"
   ]
  },
  {
   "cell_type": "markdown",
   "metadata": {},
   "source": [
    "The objective of this notebook is to analyze the raw data and perform exploratory analysis that will aid in the construction of model building and post-analysis. "
   ]
  },
  {
   "cell_type": "markdown",
   "metadata": {},
   "source": [
    "---------------------------------------"
   ]
  },
  {
   "cell_type": "code",
   "execution_count": 1,
   "metadata": {
    "collapsed": false
   },
   "outputs": [],
   "source": [
    "# Module imports\n",
    "import os\n",
    "import glob\n",
    "import numpy as np\n",
    "import pandas as pd\n",
    "from scipy import stats\n",
    "import math"
   ]
  },
  {
   "cell_type": "code",
   "execution_count": 2,
   "metadata": {
    "collapsed": true
   },
   "outputs": [],
   "source": [
    "# Constants\n",
    "data_url = '/kaggle/dev/data-science-bowl-2017-data/'\n",
    "sample_data = 'sample_images/'\n",
    "labels_data = 'stage1_labels.csv'\n",
    "train_data = 'stage1/'\n"
   ]
  },
  {
   "cell_type": "code",
   "execution_count": 3,
   "metadata": {
    "collapsed": false
   },
   "outputs": [
    {
     "name": "stdout",
     "output_type": "stream",
     "text": [
      "Found and verified location: /kaggle/dev/data-science-bowl-2017-data/sample_images/\n",
      "Found and verified location: /kaggle/dev/data-science-bowl-2017-data/stage1/\n",
      "Found and verified location: /kaggle/dev/data-science-bowl-2017-data/stage1_labels.csv\n"
     ]
    }
   ],
   "source": [
    "# Validating if files exist\n",
    "\n",
    "def verify_location(loc):\n",
    "    loc = data_url + loc\n",
    "    if os.path.isdir(loc) or os.path.isfile(loc) :\n",
    "        print('Found and verified location: ' + loc)\n",
    "    else:\n",
    "        raise Exception('Failed to verify location: ' + loc)\n",
    "    return loc\n",
    "    \n",
    "sample_data = verify_location(sample_data)\n",
    "train_data = verify_location(train_data)\n",
    "labels = verify_location(labels_data)"
   ]
  },
  {
   "cell_type": "code",
   "execution_count": 4,
   "metadata": {
    "collapsed": false
   },
   "outputs": [
    {
     "name": "stdout",
     "output_type": "stream",
     "text": [
      "Descriptive statistics for sample data:\n",
      "       scans-per-patient\n",
      "count           20.00000\n",
      "mean           180.20000\n",
      "std             75.23619\n",
      "min            110.00000\n",
      "25%            131.75000\n",
      "50%            167.50000\n",
      "75%            197.75000\n",
      "max            435.00000\n",
      "\n",
      "\n",
      "Descriptive statistics for train data:\n",
      "       scans-per-patient\n",
      "count        1595.000000\n",
      "mean          178.921630\n",
      "std            67.070653\n",
      "min            94.000000\n",
      "25%           138.500000\n",
      "50%           160.000000\n",
      "75%           190.000000\n",
      "max           541.000000\n"
     ]
    }
   ],
   "source": [
    "# Extracting patient scan data\n",
    "def folder_explorer(folder):\n",
    "    patient_info = {}\n",
    "    for d in os.listdir(folder):\n",
    "        patient_info[d] = int(len(os.listdir(folder + d)))\n",
    "    return patient_info\n",
    "\n",
    "# Sample Data\n",
    "patient_scans_sample = folder_explorer(sample_data)\n",
    "df_patient_scans_sample = pd.DataFrame(list(patient_scans_sample.items()), \n",
    "                             columns=[\"id\", \"scans-per-patient\"])\n",
    "patient_scans_sample_describe = pd.DataFrame.describe(df_patient_scans_sample)\n",
    "\n",
    "# Train Data\n",
    "patient_scans_train = folder_explorer(train_data)\n",
    "df_patient_scans_train = pd.DataFrame(list(patient_scans_train.items()), \n",
    "                             columns=[\"id\", \"scans-per-patient\"])\n",
    "patient_scans_train_describe = pd.DataFrame.describe(df_patient_scans_train)\n",
    "\n",
    "\n",
    "print(\"Descriptive statistics for sample data:\")\n",
    "print(patient_scans_sample_describe)\n",
    "\n",
    "print(\"\\n\")\n",
    "\n",
    "print(\"Descriptive statistics for train data:\")\n",
    "print(patient_scans_train_describe)\n",
    "\n",
    "\n",
    "\n"
   ]
  },
  {
   "cell_type": "code",
   "execution_count": 5,
   "metadata": {
    "collapsed": false
   },
   "outputs": [
    {
     "data": {
      "text/html": [
       "<div>\n",
       "<table border=\"1\" class=\"dataframe\">\n",
       "  <thead>\n",
       "    <tr style=\"text-align: right;\">\n",
       "      <th></th>\n",
       "      <th>id</th>\n",
       "      <th>cancer</th>\n",
       "    </tr>\n",
       "  </thead>\n",
       "  <tbody>\n",
       "    <tr>\n",
       "      <th>0</th>\n",
       "      <td>0015ceb851d7251b8f399e39779d1e7d</td>\n",
       "      <td>1</td>\n",
       "    </tr>\n",
       "    <tr>\n",
       "      <th>1</th>\n",
       "      <td>0030a160d58723ff36d73f41b170ec21</td>\n",
       "      <td>0</td>\n",
       "    </tr>\n",
       "    <tr>\n",
       "      <th>2</th>\n",
       "      <td>003f41c78e6acfa92430a057ac0b306e</td>\n",
       "      <td>0</td>\n",
       "    </tr>\n",
       "    <tr>\n",
       "      <th>3</th>\n",
       "      <td>006b96310a37b36cccb2ab48d10b49a3</td>\n",
       "      <td>1</td>\n",
       "    </tr>\n",
       "    <tr>\n",
       "      <th>4</th>\n",
       "      <td>008464bb8521d09a42985dd8add3d0d2</td>\n",
       "      <td>1</td>\n",
       "    </tr>\n",
       "  </tbody>\n",
       "</table>\n",
       "</div>"
      ],
      "text/plain": [
       "                                 id  cancer\n",
       "0  0015ceb851d7251b8f399e39779d1e7d       1\n",
       "1  0030a160d58723ff36d73f41b170ec21       0\n",
       "2  003f41c78e6acfa92430a057ac0b306e       0\n",
       "3  006b96310a37b36cccb2ab48d10b49a3       1\n",
       "4  008464bb8521d09a42985dd8add3d0d2       1"
      ]
     },
     "execution_count": 5,
     "metadata": {},
     "output_type": "execute_result"
    }
   ],
   "source": [
    "# Adding Label Data\n",
    "\n",
    "df_labels = pd.read_csv(labels)\n",
    "df_labels.head()"
   ]
  },
  {
   "cell_type": "code",
   "execution_count": 15,
   "metadata": {
    "collapsed": false
   },
   "outputs": [],
   "source": [
    "result_sample = pd.merge(df_patient_scans_sample, df_labels, how=\"inner\", on=['id'])\n",
    "result_train = pd.merge(df_patient_scans_train, df_labels, how=\"inner\", on=['id'])\n",
    "train = result_train"
   ]
  },
  {
   "cell_type": "markdown",
   "metadata": {},
   "source": [
    "## Size Analysis"
   ]
  },
  {
   "cell_type": "code",
   "execution_count": 31,
   "metadata": {
    "collapsed": false
   },
   "outputs": [
    {
     "name": "stdout",
     "output_type": "stream",
     "text": [
      "size analysis:\n",
      "patient_data (size): (1595, 2)\n",
      "unique patient_data : 1595\n",
      "df_labels (size): (1397, 2)\n",
      "unique df_labels: 1397\n",
      "train (size): (1397, 3)\n",
      "unique train: 1397\n"
     ]
    }
   ],
   "source": [
    "print(\"size analysis:\")\n",
    "print(\"patient_data (size): \" + str(df_patient_scans_train.shape))\n",
    "print(\"unique patient_data : \" + str(len(df_patient_scans_train['id'].unique())))\n",
    "\n",
    "print(\"df_labels (size): \" + str(df_labels.shape))\n",
    "print(\"unique df_labels: \" + str(len(df_labels['id'].unique())))\n",
    "\n",
    "print(\"train (size): \" + str(train.shape))\n",
    "print(\"unique train: \" + str(len(train['id'].unique())))"
   ]
  },
  {
   "cell_type": "markdown",
   "metadata": {
    "collapsed": true
   },
   "source": [
    "\n"
   ]
  },
  {
   "cell_type": "code",
   "execution_count": null,
   "metadata": {
    "collapsed": true
   },
   "outputs": [],
   "source": []
  }
 ],
 "metadata": {
  "anaconda-cloud": {},
  "kernelspec": {
   "display_name": "Python [default]",
   "language": "python",
   "name": "python3"
  },
  "language_info": {
   "codemirror_mode": {
    "name": "ipython",
    "version": 3
   },
   "file_extension": ".py",
   "mimetype": "text/x-python",
   "name": "python",
   "nbconvert_exporter": "python",
   "pygments_lexer": "ipython3",
   "version": "3.5.2"
  }
 },
 "nbformat": 4,
 "nbformat_minor": 1
}
